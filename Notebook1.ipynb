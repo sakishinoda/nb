{
 "cells": [
  {
   "cell_type": "code",
   "execution_count": 154,
   "metadata": {
    "collapsed": true
   },
   "outputs": [],
   "source": [
    "import numpy as np\n",
    "import math\n",
    "import csv\n",
    "\n",
    "fname = './data/train.csv'\n",
    "\n",
    "def load_data(fname):\n",
    "    with open(fname, newline='') as csvfile:\n",
    "        reader = csv.reader(csvfile)\n",
    "        data = list(reader)\n",
    "\n",
    "    num_examples = len(data)\n",
    "    header = data[0]\n",
    "    feats = np.array([row[1:] for row in data[1:]], dtype=int)\n",
    "    label_chars = [row[0] for row in data[1:]]\n",
    "    char2int = dict(zip(sorted(set(label_chars)), range(len(set(label_chars)))))\n",
    "    labels = np.array([char2int[c] for c in label_chars])\n",
    "    \n",
    "    return feats, labels\n",
    "\n",
    "feats, labels = load_data(fname)\n",
    "classes = sorted(char2int.values())\n",
    "num_classes = len(classes)\n",
    "num_feats = feats.shape[1]\n",
    "num_feat_levels = 16\n",
    "feat_range = range(num_feat_levels)\n"
   ]
  },
  {
   "cell_type": "code",
   "execution_count": 183,
   "metadata": {
    "collapsed": false
   },
   "outputs": [
    {
     "data": {
      "text/plain": [
       "'csv'"
      ]
     },
     "execution_count": 183,
     "metadata": {},
     "output_type": "execute_result"
    }
   ],
   "source": [
    "fname.lower().split('.')[-1]"
   ]
  },
  {
   "cell_type": "markdown",
   "metadata": {},
   "source": [
    "# Gaussian Naive Bayes"
   ]
  },
  {
   "cell_type": "code",
   "execution_count": 129,
   "metadata": {
    "collapsed": true
   },
   "outputs": [],
   "source": [
    "means = np.zeros([num_classes, num_feats])\n",
    "stds = np.ones([num_classes, num_feats])\n",
    "\n",
    "for c in classes:\n",
    "    c_feats = feats[np.where(labels == c)]\n",
    "    means[c] = (np.mean(c_feats, axis=0))\n",
    "    stds[c] = (np.std(c_feats, axis=0))"
   ]
  },
  {
   "cell_type": "code",
   "execution_count": 130,
   "metadata": {
    "collapsed": false
   },
   "outputs": [],
   "source": [
    "def gaussprob(means, stds, feat_vals, y):\n",
    "    m = means[y]\n",
    "    s = stds[y]\n",
    "    p = np.exp(-0.5*np.power((feat_vals - m)/s, 2)) * (1/(s*math.sqrt(2*math.pi)))\n",
    "    return np.sum(np.log(p))\n",
    "\n",
    "predict = np.ndarray(labels.shape)\n",
    "for i in range(num_examples-1):\n",
    "    predict[i] = np.argmax([gaussprob(means, stds, feats[i], c) for c in range(num_classes)])"
   ]
  },
  {
   "cell_type": "code",
   "execution_count": 131,
   "metadata": {
    "collapsed": false
   },
   "outputs": [
    {
     "data": {
      "text/plain": [
       "0.6530789245446661"
      ]
     },
     "execution_count": 131,
     "metadata": {},
     "output_type": "execute_result"
    }
   ],
   "source": [
    "sum(labels==predict)/len(labels)"
   ]
  },
  {
   "cell_type": "markdown",
   "metadata": {},
   "source": [
    "# Multinomial Naive Bayes (counting)"
   ]
  },
  {
   "cell_type": "code",
   "execution_count": 173,
   "metadata": {
    "collapsed": false
   },
   "outputs": [],
   "source": [
    "\n",
    "freq = np.ndarray((num_classes, num_feat_levels, num_feats))\n",
    "prior_freq = {}\n",
    "z = {}\n",
    "\n",
    "for i, c in enumerate(classes):\n",
    "    c_feats = feats[np.where(labels==c)]\n",
    "    num_in_class = c_feats.shape[0]\n",
    "    prior_freq[c] = num_in_class\n",
    "    z = num_in_class + num_feat_levels*alpha\n",
    "    for f in feat_range:\n",
    "        p = (np.count_nonzero(c_feats==f, axis=0) + alpha) #/(num_in_class + 15*alpha)\n",
    "        freq[i, f, :] = np.log(p) - np.log(z)\n",
    "    \n",
    "# log_freq = np.log(freq)"
   ]
  },
  {
   "cell_type": "code",
   "execution_count": 174,
   "metadata": {
    "collapsed": false
   },
   "outputs": [
    {
     "data": {
      "text/plain": [
       "{0: 606,\n",
       " 1: 572,\n",
       " 2: 553,\n",
       " 3: 603,\n",
       " 4: 571,\n",
       " 5: 580,\n",
       " 6: 575,\n",
       " 7: 547,\n",
       " 8: 564,\n",
       " 9: 556,\n",
       " 10: 542,\n",
       " 11: 567,\n",
       " 12: 607,\n",
       " 13: 584,\n",
       " 14: 560,\n",
       " 15: 587,\n",
       " 16: 594,\n",
       " 17: 580,\n",
       " 18: 553,\n",
       " 19: 589,\n",
       " 20: 597,\n",
       " 21: 573,\n",
       " 22: 576,\n",
       " 23: 582,\n",
       " 24: 623,\n",
       " 25: 548}"
      ]
     },
     "execution_count": 174,
     "metadata": {},
     "output_type": "execute_result"
    }
   ],
   "source": [
    "prior_freq"
   ]
  },
  {
   "cell_type": "code",
   "execution_count": 175,
   "metadata": {
    "collapsed": false,
    "scrolled": true
   },
   "outputs": [
    {
     "data": {
      "text/plain": [
       "array([[[-6.43294009, -3.43720782, -6.43294009, ..., -6.43294009,\n",
       "         -5.73979291, -6.43294009],\n",
       "        [-2.74406064, -2.99895289, -6.43294009, ..., -6.43294009,\n",
       "         -1.93313042, -5.3343278 ],\n",
       "        [-1.45620635, -3.38841766, -2.84942115, ..., -5.3343278 ,\n",
       "         -1.15482543, -5.04664573],\n",
       "        ..., \n",
       "        [-6.43294009, -4.130355  , -6.43294009, ..., -6.43294009,\n",
       "         -6.43294009, -6.43294009],\n",
       "        [-6.43294009, -4.64118062, -6.43294009, ..., -6.43294009,\n",
       "         -6.43294009, -6.43294009],\n",
       "        [-6.43294009, -4.48702994, -6.43294009, ..., -6.43294009,\n",
       "         -6.43294009, -6.43294009]],\n",
       "\n",
       "       [[-5.68357977, -3.15785112, -6.37672695, ..., -6.37672695,\n",
       "         -6.37672695, -6.37672695],\n",
       "        [-2.73914079, -3.08089008, -3.66867675, ..., -6.37672695,\n",
       "         -6.37672695, -6.37672695],\n",
       "        [-2.02001812, -3.38099467, -2.73914079, ..., -6.37672695,\n",
       "         -4.99043259, -6.37672695],\n",
       "        ..., \n",
       "        [-6.37672695, -4.29728541, -6.37672695, ..., -6.37672695,\n",
       "         -6.37672695, -6.37672695],\n",
       "        [-6.37672695, -4.4308168 , -6.37672695, ..., -6.37672695,\n",
       "         -6.37672695, -6.37672695],\n",
       "        [-6.37672695, -3.97883168, -6.37672695, ..., -6.37672695,\n",
       "         -6.37672695, -6.37672695]],\n",
       "\n",
       "       [[-5.65073325, -3.299358  , -6.34388043, ..., -6.34388043,\n",
       "         -6.34388043, -6.34388043],\n",
       "        [-2.84737287, -2.94268305, -3.94598516, ..., -6.34388043,\n",
       "         -6.34388043, -6.34388043],\n",
       "        [-1.86654362, -3.57129171, -2.60621082, ..., -6.34388043,\n",
       "         -2.30082917, -6.34388043],\n",
       "        ..., \n",
       "        [-6.34388043, -3.85897378, -6.34388043, ..., -6.34388043,\n",
       "         -6.34388043, -4.73444252],\n",
       "        [-6.34388043, -4.14665586, -6.34388043, ..., -6.34388043,\n",
       "         -6.34388043, -6.34388043],\n",
       "        [-6.34388043, -4.95758607, -6.34388043, ..., -6.34388043,\n",
       "         -6.34388043, -6.34388043]],\n",
       "\n",
       "       ..., \n",
       "       [[-5.70044357, -3.62100203, -6.39359075, ..., -6.39359075,\n",
       "         -6.39359075, -6.39359075],\n",
       "        [-3.39785848, -2.95960355, -3.9086841 , ..., -6.39359075,\n",
       "         -6.39359075, -6.39359075],\n",
       "        [-2.06285741, -3.56037741, -3.3025483 , ..., -6.39359075,\n",
       "         -4.60183128, -6.39359075],\n",
       "        ..., \n",
       "        [-6.39359075, -3.99569548, -6.39359075, ..., -5.00729639,\n",
       "         -6.39359075, -6.39359075],\n",
       "        [-6.39359075, -4.4476806 , -6.39359075, ..., -5.29497847,\n",
       "         -6.39359075, -6.39359075],\n",
       "        [-6.39359075, -3.75453342, -6.39359075, ..., -6.39359075,\n",
       "         -6.39359075, -6.39359075]],\n",
       "\n",
       "       [[-5.76675727, -3.32441024, -6.45990445, ..., -6.45990445,\n",
       "         -1.34791667, -6.45990445],\n",
       "        [-2.771025  , -3.05870707, -5.07361009, ..., -6.45990445,\n",
       "         -2.84898654, -6.45990445],\n",
       "        [-1.92730496, -3.51546548, -2.65324196, ..., -6.45990445,\n",
       "         -1.30661286, -6.45990445],\n",
       "        ..., \n",
       "        [-6.45990445, -5.36129217, -6.45990445, ..., -4.15731936,\n",
       "         -6.45990445, -6.45990445],\n",
       "        [-6.45990445, -5.07361009, -6.45990445, ..., -6.45990445,\n",
       "         -6.45990445, -6.45990445],\n",
       "        [-6.45990445, -5.07361009, -6.45990445, ..., -6.45990445,\n",
       "         -6.45990445, -6.45990445]],\n",
       "\n",
       "       [[-6.33505425, -3.2440118 , -6.33505425, ..., -6.33505425,\n",
       "         -6.33505425, -6.33505425],\n",
       "        [-2.59738463, -3.19956004, -3.93715898, ..., -6.33505425,\n",
       "         -6.33505425, -6.33505425],\n",
       "        [-1.72988407, -3.77010489, -2.55086462, ..., -6.33505425,\n",
       "         -6.33505425, -6.33505425],\n",
       "        ..., \n",
       "        [-6.33505425, -4.72561634, -6.33505425, ..., -6.33505425,\n",
       "         -4.54329478, -6.33505425],\n",
       "        [-6.33505425, -5.23644196, -6.33505425, ..., -6.33505425,\n",
       "         -5.23644196, -6.33505425],\n",
       "        [-6.33505425, -4.94875989, -6.33505425, ..., -6.33505425,\n",
       "         -6.33505425, -6.33505425]]])"
      ]
     },
     "execution_count": 175,
     "metadata": {},
     "output_type": "execute_result"
    }
   ],
   "source": [
    "freq"
   ]
  },
  {
   "cell_type": "code",
   "execution_count": 176,
   "metadata": {
    "collapsed": false
   },
   "outputs": [],
   "source": [
    "def prob(feat_vals, y):\n",
    "    p = 0\n",
    "    for i,f in enumerate(feat_vals):\n",
    "        p += log_freq[y, f, i]\n",
    "    return p"
   ]
  },
  {
   "cell_type": "code",
   "execution_count": 177,
   "metadata": {
    "collapsed": false
   },
   "outputs": [],
   "source": [
    "def mnb(feats, classes):\n",
    "    p = np.zeros((feats.shape[0], len(classes)))\n",
    "    for r in range(p.shape[0]):\n",
    "        for i, c in enumerate(classes):\n",
    "            p[r,c] = prob(feats[r], i)\n",
    "    \n",
    "    predict = np.argmax(p, axis=1)\n",
    "    return predict"
   ]
  },
  {
   "cell_type": "code",
   "execution_count": 178,
   "metadata": {
    "collapsed": true
   },
   "outputs": [],
   "source": [
    "predict = mnb(feats, classes)"
   ]
  },
  {
   "cell_type": "code",
   "execution_count": 179,
   "metadata": {
    "collapsed": false
   },
   "outputs": [
    {
     "data": {
      "text/plain": [
       "0.75201814664086997"
      ]
     },
     "execution_count": 179,
     "metadata": {},
     "output_type": "execute_result"
    }
   ],
   "source": [
    "sum(labels==predict)/len(labels)"
   ]
  },
  {
   "cell_type": "code",
   "execution_count": 167,
   "metadata": {
    "collapsed": true
   },
   "outputs": [],
   "source": [
    "val_feats, val_labels = load_data('./data/validation.csv')"
   ]
  },
  {
   "cell_type": "code",
   "execution_count": 168,
   "metadata": {
    "collapsed": false
   },
   "outputs": [],
   "source": [
    "val_predict = mnb(val_feats, classes)"
   ]
  },
  {
   "cell_type": "code",
   "execution_count": 169,
   "metadata": {
    "collapsed": false
   },
   "outputs": [
    {
     "data": {
      "text/plain": [
       "0.71999999999999997"
      ]
     },
     "execution_count": 169,
     "metadata": {},
     "output_type": "execute_result"
    }
   ],
   "source": [
    "sum(val_labels==val_predict)/len(val_labels)"
   ]
  },
  {
   "cell_type": "markdown",
   "metadata": {},
   "source": [
    "# Sklearn results"
   ]
  },
  {
   "cell_type": "code",
   "execution_count": 102,
   "metadata": {
    "collapsed": false
   },
   "outputs": [
    {
     "name": "stdout",
     "output_type": "stream",
     "text": [
      "0.654746814331\n"
     ]
    }
   ],
   "source": [
    "from sklearn.naive_bayes import GaussianNB\n",
    "gnb = GaussianNB()\n",
    "y_pred = gnb.fit(feats, labels).predict(feats)\n",
    "print((labels == y_pred).sum() / feats.shape[0])"
   ]
  },
  {
   "cell_type": "code",
   "execution_count": 171,
   "metadata": {
    "collapsed": false
   },
   "outputs": [
    {
     "name": "stdout",
     "output_type": "stream",
     "text": [
      "0.55233838148\n",
      "0.5405\n"
     ]
    }
   ],
   "source": [
    "from sklearn.naive_bayes import MultinomialNB\n",
    "mnb = MultinomialNB(alpha=1.0, fit_prior=True)\n",
    "y_pred = mnb.fit(feats, labels).predict(feats)\n",
    "print((labels == y_pred).sum() / feats.shape[0])\n",
    "\n",
    "val_pred = mnb.predict(val_feats)\n",
    "print((val_labels == val_pred).sum() / val_feats.shape[0])"
   ]
  },
  {
   "cell_type": "code",
   "execution_count": 181,
   "metadata": {
    "collapsed": false
   },
   "outputs": [
    {
     "data": {
      "text/plain": [
       "<function __main__.mnb>"
      ]
     },
     "execution_count": 181,
     "metadata": {},
     "output_type": "execute_result"
    }
   ],
   "source": [
    "mnb"
   ]
  },
  {
   "cell_type": "code",
   "execution_count": null,
   "metadata": {
    "collapsed": true
   },
   "outputs": [],
   "source": []
  }
 ],
 "metadata": {
  "kernelspec": {
   "display_name": "Python [conda root]",
   "language": "python",
   "name": "conda-root-py"
  },
  "language_info": {
   "codemirror_mode": {
    "name": "ipython",
    "version": 3
   },
   "file_extension": ".py",
   "mimetype": "text/x-python",
   "name": "python",
   "nbconvert_exporter": "python",
   "pygments_lexer": "ipython3",
   "version": "3.5.3"
  }
 },
 "nbformat": 4,
 "nbformat_minor": 2
}
